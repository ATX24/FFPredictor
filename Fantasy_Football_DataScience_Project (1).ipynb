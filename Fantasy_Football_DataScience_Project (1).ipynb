{
  "cells": [
    {
      "cell_type": "markdown",
      "metadata": {
        "id": "czLH9ikKH4Vm"
      },
      "source": [
        "#Phase 1\n",
        "Goal: Use multiple linear regression to find the fantasy points of a player based on current stats"
      ]
    },
    {
      "cell_type": "code",
      "execution_count": null,
      "metadata": {
        "id": "mlsv08Pq-fvZ"
      },
      "outputs": [],
      "source": [
        "#Import machine learning libraries\n",
        "from sklearn.model_selection import train_test_split\n",
        "from sklearn.linear_model import LogisticRegression\n",
        "from sklearn.linear_model import LinearRegression\n",
        "from sklearn.neighbors import KNeighborsClassifier\n",
        "from sklearn import tree\n",
        "from sklearn.metrics import confusion_matrix, classification_report\n",
        "from sklearn.metrics import precision_recall_curve\n",
        "from sklearn.metrics import roc_auc_score\n",
        "from sklearn.base import BaseEstimator\n",
        "\n",
        "from sklearn.neural_network import MLPClassifier\n",
        "from sklearn.neighbors import KNeighborsClassifier\n",
        "from sklearn.svm import SVC\n",
        "from sklearn.gaussian_process import GaussianProcessClassifier\n",
        "from sklearn.gaussian_process.kernels import RBF\n",
        "from sklearn.tree import DecisionTreeClassifier\n",
        "from sklearn.ensemble import RandomForestClassifier, AdaBoostClassifier\n",
        "from sklearn.naive_bayes import GaussianNB\n",
        "from sklearn.discriminant_analysis import QuadraticDiscriminantAnalysis\n",
        "import seaborn as sns\n",
        "import matplotlib.pyplot as plt\n",
        "from sklearn.metrics import accuracy_score\n"
      ]
    },
    {
      "cell_type": "code",
      "source": [
        "from google.colab import drive\n",
        "drive.mount('/content/drive')"
      ],
      "metadata": {
        "colab": {
          "base_uri": "https://localhost:8080/"
        },
        "id": "f9_Uw1FgDmhl",
        "outputId": "e15cb809-5fdb-46b7-d9a5-e66e52c08a58"
      },
      "execution_count": null,
      "outputs": [
        {
          "output_type": "stream",
          "name": "stdout",
          "text": [
            "Mounted at /content/drive\n"
          ]
        }
      ]
    },
    {
      "cell_type": "code",
      "execution_count": null,
      "metadata": {
        "id": "CzRboL-iKGHb"
      },
      "outputs": [],
      "source": [
        "import pandas as pd\n",
        "listOfData = [];\n",
        "for x in range(70,99):\n",
        "  test = pd.read_csv('19' + str(x) + '.csv')\n",
        "  listOfData.append(pd.DataFrame(test))\n",
        "for i in range(0,9):\n",
        "  test2 = pd.read_csv('200' + str(i) + '.csv')\n",
        "  listOfData.append(pd.DataFrame(test2))\n",
        "for i in range(11, 19):\n",
        "  test3 = pd.read_csv('20' + str(i) + '.csv')\n",
        "  listOfData.append(pd.DataFrame(test3))\n",
        "\n",
        "listOfData[0]"
      ]
    },
    {
      "cell_type": "code",
      "execution_count": null,
      "metadata": {
        "id": "dwEygLy7PuB7"
      },
      "outputs": [],
      "source": [
        "from functools import reduce\n",
        "final_df = reduce(lambda  left,right: pd.merge(left,right,\n",
        "                                            how='outer'), listOfData)"
      ]
    },
    {
      "cell_type": "code",
      "execution_count": null,
      "metadata": {
        "colab": {
          "base_uri": "https://localhost:8080/"
        },
        "id": "8WfHfpY2MOLT",
        "outputId": "ddf0b8fc-a64e-4095-f435-0ec21af18147"
      },
      "outputs": [
        {
          "name": "stdout",
          "output_type": "stream",
          "text": [
            "481.1\n",
            "LaDainian Tomlinson\n"
          ]
        }
      ],
      "source": [
        "# Exploring final_df\n",
        "\n",
        "test = list(final_df['FantasyPoints'])\n",
        "max = 0\n",
        "value = 0\n",
        "for i in range(len(test)):\n",
        "  if test[i] > max:\n",
        "    max = test[i];\n",
        "    value = i\n",
        "print(max)\n",
        "test1 = list(final_df['Player'])\n",
        "print(test1[value])"
      ]
    },
    {
      "cell_type": "code",
      "execution_count": null,
      "metadata": {
        "id": "XSUh2jDt8sPk"
      },
      "outputs": [],
      "source": [
        "final_df.columns.values.tolist()"
      ]
    },
    {
      "cell_type": "code",
      "execution_count": null,
      "metadata": {
        "colab": {
          "base_uri": "https://localhost:8080/"
        },
        "id": "x4yMMy3FkkNG",
        "outputId": "bbdab582-dad9-4157-94ac-c13d82223240"
      },
      "outputs": [
        {
          "name": "stdout",
          "output_type": "stream",
          "text": [
            "Position: RB\n"
          ]
        }
      ],
      "source": [
        "#Filter data\n",
        "\n",
        "\n",
        "pos = input('Position: ')\n",
        "posList = final_df['Pos']\n",
        "for x in range(len(posList)):\n",
        "  if(posList[x] != pos):\n",
        "    final_df = final_df.drop(index = x)\n",
        "\n"
      ]
    },
    {
      "cell_type": "code",
      "execution_count": null,
      "metadata": {
        "id": "xLE0ovyeUKfH"
      },
      "outputs": [],
      "source": [
        "final_df.dropna"
      ]
    },
    {
      "cell_type": "code",
      "execution_count": null,
      "metadata": {
        "id": "saShI8kgIveS"
      },
      "outputs": [],
      "source": [
        "x = final_df[[       \n",
        "              'Age',\n",
        "              'Rec',           \n",
        "              'Y/R',\n",
        "              'Fumbles',\n",
        "              'FumblesLost',\n",
        "              'RushingYds',\n",
        "              'RushingTD',\n",
        "              'RushingAtt',\n",
        "              'ReceivingYds',\n",
        "              'ReceivingTD',\n",
        "               ]]\n",
        "\n",
        "y = final_df[['FantasyPoints']]"
      ]
    },
    {
      "cell_type": "code",
      "execution_count": null,
      "metadata": {
        "id": "HOB03EQmCuR9"
      },
      "outputs": [],
      "source": [
        "X_train, X_test, y_train, y_test = train_test_split(x, y, test_size=0.3, random_state=101)\n",
        "model = LinearRegression(fit_intercept = True, normalize = True)"
      ]
    },
    {
      "cell_type": "code",
      "execution_count": null,
      "metadata": {
        "id": "gbXPygZCWs3e"
      },
      "outputs": [],
      "source": [
        "model.fit(X_train, y_train)"
      ]
    },
    {
      "cell_type": "code",
      "execution_count": null,
      "metadata": {
        "id": "-ChSQX7uYb09"
      },
      "outputs": [],
      "source": [
        "prediction = model.predict(X_train)\n",
        "print('Multiple linear model had an R^2 of: %0.3f'%model.score(X_train, y_train))"
      ]
    },
    {
      "cell_type": "code",
      "execution_count": null,
      "metadata": {
        "id": "h6CO_Xs_ZiO9"
      },
      "outputs": [],
      "source": [
        "11\n",
        "print(X_train)\n",
        "testData = pd.DataFrame(columns = ['Age', 'Rec', 'Y/R', 'Fumbles', 'FumblesLost', 'RushingYds', 'RushingTD', 'RushingAtt', 'ReceivingYds', 'ReceivingTD'])\n",
        "\n",
        "age = input('Age: ')\n",
        "\n",
        "rec = input('Rec: ')\n",
        "yr = input('Y/R: ')\n",
        "fumbles = input('Fumbles: ')\n",
        "fumblesLost = input('Fumbles lost: ')\n",
        "rushingYds = input('Rushing yards: ')\n",
        "RushingTD = input('Rushing TDs: ')\n",
        "rushingAtt = input('Rushing Attempts: ')\n",
        "receivingYds = input('Receiving yards: ')\n",
        "receivingTds = input('Receiving Touchdowns: ')\n",
        "\n",
        "rec = [age, rec, yr, fumbles, fumblesLost, rushingYds, RushingTD, rushingAtt, receivingTds, receivingTds]\n",
        "testData.loc[len(testData)+1] = rec"
      ]
    },
    {
      "cell_type": "code",
      "execution_count": null,
      "metadata": {
        "id": "7lrnUQ4oYYj2"
      },
      "outputs": [],
      "source": [
        "model.predict(testData)"
      ]
    },
    {
      "cell_type": "markdown",
      "metadata": {
        "id": "BTdWieMjH9wc"
      },
      "source": [
        "#Phase 2\n",
        "Goal: Create a Dataset with yearly stats and future points\n",
        "Should include THIS years stats and NEXT years results"
      ]
    },
    {
      "cell_type": "code",
      "execution_count": null,
      "metadata": {
        "id": "NdVTuyWNIgp7"
      },
      "outputs": [],
      "source": [
        "#Import machine learning libraries\n",
        "from sklearn.model_selection import train_test_split\n",
        "from sklearn.linear_model import LogisticRegression\n",
        "from sklearn.linear_model import LinearRegression\n",
        "from sklearn.neighbors import KNeighborsClassifier\n",
        "from sklearn import tree\n",
        "from sklearn.metrics import confusion_matrix, classification_report\n",
        "from sklearn.metrics import precision_recall_curve\n",
        "from sklearn.metrics import roc_auc_score\n",
        "from sklearn.base import BaseEstimator\n",
        "\n",
        "from sklearn.neural_network import MLPClassifier\n",
        "from sklearn.neighbors import KNeighborsClassifier\n",
        "from sklearn.svm import SVC\n",
        "from sklearn.gaussian_process import GaussianProcessClassifier\n",
        "from sklearn.gaussian_process.kernels import RBF\n",
        "from sklearn.tree import DecisionTreeClassifier\n",
        "from sklearn.ensemble import RandomForestClassifier, AdaBoostClassifier\n",
        "from sklearn.naive_bayes import GaussianNB\n",
        "from sklearn.discriminant_analysis import QuadraticDiscriminantAnalysis\n",
        "import seaborn as sns\n",
        "import matplotlib.pyplot as plt\n",
        "from sklearn.metrics import accuracy_score\n",
        "import pandas as pd\n",
        "from sklearn.metrics import r2_score\n"
      ]
    },
    {
      "cell_type": "code",
      "execution_count": null,
      "metadata": {
        "id": "yQ_5A7yFImNH"
      },
      "outputs": [],
      "source": [
        "#Creating the base dataset \n",
        "dataset = pd.DataFrame({'Name':['test']*18090, 'Age':[1]*18090, 'Yards':[1]*18090, 'Receptions':[1]*18090, 'Season':[1]*18090})"
      ]
    },
    {
      "cell_type": "code",
      "source": [
        "#Get data\n",
        "from google.colab import files\n",
        "files.upload()"
      ],
      "metadata": {
        "id": "TY7C9l0jEzqC"
      },
      "execution_count": null,
      "outputs": []
    },
    {
      "cell_type": "code",
      "execution_count": null,
      "metadata": {
        "id": "zRVw2ro1O1R6"
      },
      "outputs": [],
      "source": [
        "ind = 0\n",
        "tester = True\n",
        "\n",
        "#Iterates through all the datasets\n",
        "\n",
        "for i in range(1970,2017):\n",
        "  testData = pd.read_csv(str(i) + '.csv')\n",
        "  futureData = pd.read_csv(str(i+1) + '.csv')\n",
        "\n",
        "  testData = pd.DataFrame(testData)\n",
        "  futureData = pd.DataFrame(futureData)\n",
        "\n",
        "\n",
        "  #Iterates through test data (current data)\n",
        "  for x in range(0, len(testData)): \n",
        "    #Gets the player from the current year\n",
        "    player1 = testData['Player'][x]\n",
        "    #Iterates through the future data (next year)\n",
        "    for i in range(0, len(futureData)): \n",
        "      #Gets the player from the next year\n",
        "      player2 = futureData['Player'][i]\n",
        "      #Checks to see if player1 played both years\n",
        "      if (player1 == player2): \n",
        "        #Adds correct values to the dataset\n",
        "        dataset.loc[ind, \"Name\"] = testData['Player'][x]\n",
        "        dataset.loc[ind, \"Age\"] = futureData['Age'][i]\n",
        "        dataset.loc[ind, \"Yards\"] = testData['ReceivingYds'][x]\n",
        "        dataset.loc[ind, \"Receptions\"] = testData['Rec'][x]\n",
        "        #1 is a good season\n",
        "        #0 is a bad season\n",
        "        if (futureData['FantasyPoints'][i] > 180): \n",
        "          dataset.loc[ind, \"Season\"] = 1\n",
        "        else:\n",
        "          dataset.loc[ind, \"Season\"] = 0\n",
        "\n",
        "        ind = ind +1"
      ]
    },
    {
      "cell_type": "code",
      "execution_count": null,
      "metadata": {
        "id": "7izsPG_-53A_"
      },
      "outputs": [],
      "source": [
        "dataset.head()"
      ]
    },
    {
      "cell_type": "code",
      "execution_count": null,
      "metadata": {
        "id": "IjSjb0gwuF5B"
      },
      "outputs": [],
      "source": [
        "x = dataset[[       \n",
        "              'Age',\n",
        "              'Yards',           \n",
        "              'Receptions',\n",
        "               ]]\n",
        "\n",
        "y = dataset[['Season']]"
      ]
    },
    {
      "cell_type": "markdown",
      "metadata": {
        "id": "o8PrqNab1Fh9"
      },
      "source": [
        "#Phase 3\n",
        "Goal: Build a machine learning model to compute phase 2 data\n",
        "\n",
        "\n",
        "---\n",
        "\n",
        "Use categorical analysis for higher accuracy"
      ]
    },
    {
      "cell_type": "code",
      "execution_count": null,
      "metadata": {
        "id": "KGZdv2BA1VEv"
      },
      "outputs": [],
      "source": [
        "#Reclassify points\n",
        "X_train, X_test, y_train, y_test = train_test_split(x, y, test_size=0.3, random_state=101)\n",
        "logModel = LogisticRegression()\n",
        "logModel.fit(X_train, y_train)"
      ]
    },
    {
      "cell_type": "code",
      "execution_count": null,
      "metadata": {
        "id": "9Dxglcqv68Ep"
      },
      "outputs": [],
      "source": [
        "y_pred = logModel.predict(x)"
      ]
    },
    {
      "cell_type": "code",
      "execution_count": null,
      "metadata": {
        "colab": {
          "base_uri": "https://localhost:8080/"
        },
        "id": "4KnSaB1y7KfR",
        "outputId": "fa74aef8-88a7-4c9d-f8ac-cf772d69b644"
      },
      "outputs": [
        {
          "output_type": "execute_result",
          "data": {
            "text/plain": [
              "18090"
            ]
          },
          "metadata": {},
          "execution_count": 17
        }
      ],
      "source": [
        "len(y_pred)"
      ]
    },
    {
      "cell_type": "code",
      "execution_count": null,
      "metadata": {
        "colab": {
          "base_uri": "https://localhost:8080/"
        },
        "id": "TObAiP6_7OAv",
        "outputId": "24bf949b-85cf-4242-a9fd-5b3727bcc24c"
      },
      "outputs": [
        {
          "output_type": "stream",
          "name": "stdout",
          "text": [
            "0.8798231066887783\n"
          ]
        }
      ],
      "source": [
        "acc = accuracy_score(y, y_pred)\n",
        "print(acc)"
      ]
    },
    {
      "cell_type": "code",
      "execution_count": null,
      "metadata": {
        "id": "gxBzJhPi8jJI"
      },
      "outputs": [],
      "source": [
        "import numpy as np\n",
        "print(X_train)\n",
        "test = pd.DataFrame({'Age': [21], 'Yards': [1500], 'Receptions': [87]})\n",
        "logModel.predict(test)\n"
      ]
    },
    {
      "cell_type": "code",
      "execution_count": null,
      "metadata": {
        "id": "7HC2KIWG9JPu"
      },
      "outputs": [],
      "source": [
        "from sklearn import metrics\n",
        "cnf_matrix = metrics.confusion_matrix(y, y_pred)\n",
        "\n",
        "# Visualizing the Confusion Matrix\n",
        "class_names = [0,1] # Our diagnosis categories\n",
        "\n",
        "fig, ax = plt.subplots()\n",
        "# Setting up and visualizing the plot (do not worry about the code below!)\n",
        "tick_marks = np.arange(len(class_names)) \n",
        "plt.xticks(tick_marks, class_names)\n",
        "plt.yticks(tick_marks, class_names)\n",
        "sns.heatmap(pd.DataFrame(cnf_matrix), annot=True, cmap=\"YlGnBu\" ,fmt='g') # Creating heatmap\n",
        "ax.xaxis.set_label_position(\"top\")\n",
        "plt.tight_layout()\n",
        "plt.title('Confusion matrix', y = 1.1)\n",
        "plt.ylabel('Actual season')\n",
        "plt.xlabel('Predicted season')"
      ]
    },
    {
      "cell_type": "markdown",
      "source": [
        "#Datasets"
      ],
      "metadata": {
        "id": "w6OnZdONPNqO"
      }
    },
    {
      "cell_type": "markdown",
      "source": [
        "https://drive.google.com/drive/folders/1IwHST_qQgnGBgPsImOmh0r2Y3mKBS171?usp=sharing"
      ],
      "metadata": {
        "id": "QkWH0vjtPeWa"
      }
    }
  ],
  "metadata": {
    "colab": {
      "collapsed_sections": [
        "czLH9ikKH4Vm"
      ],
      "provenance": []
    },
    "kernelspec": {
      "display_name": "Python 3",
      "name": "python3"
    },
    "language_info": {
      "name": "python"
    }
  },
  "nbformat": 4,
  "nbformat_minor": 0
}