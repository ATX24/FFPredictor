{
  "cells": [
    {
      "cell_type": "markdown",
      "metadata": {
        "id": "view-in-github",
        "colab_type": "text"
      },
      "source": [
        "<a href=\"https://colab.research.google.com/github/ATX24/FFPredictor/blob/main/Fantasy_Football_DataScience_Project.ipynb\" target=\"_parent\"><img src=\"https://colab.research.google.com/assets/colab-badge.svg\" alt=\"Open In Colab\"/></a>"
      ]
    },
    {
      "cell_type": "markdown",
      "metadata": {
        "id": "czLH9ikKH4Vm"
      },
      "source": [
        "#Phase One\n",
        "Goal: Use multiple linear regression to find the fantasy points of a player based on current stats"
      ]
    },
    {
      "cell_type": "code",
      "execution_count": null,
      "metadata": {
        "id": "mlsv08Pq-fvZ"
      },
      "outputs": [],
      "source": [
        "#Import machine learning libraries\n",
        "from sklearn.model_selection import train_test_split\n",
        "from sklearn.linear_model import LogisticRegression\n",
        "from sklearn.linear_model import LinearRegression\n",
        "from sklearn.neighbors import KNeighborsClassifier\n",
        "from sklearn import tree\n",
        "from sklearn.metrics import confusion_matrix, classification_report\n",
        "from sklearn.metrics import precision_recall_curve\n",
        "from sklearn.metrics import roc_auc_score\n",
        "from sklearn.base import BaseEstimator\n",
        "\n",
        "from sklearn.neural_network import MLPClassifier\n",
        "from sklearn.neighbors import KNeighborsClassifier\n",
        "from sklearn.svm import SVC\n",
        "from sklearn.gaussian_process import GaussianProcessClassifier\n",
        "from sklearn.gaussian_process.kernels import RBF\n",
        "from sklearn.tree import DecisionTreeClassifier\n",
        "from sklearn.ensemble import RandomForestClassifier, AdaBoostClassifier\n",
        "from sklearn.naive_bayes import GaussianNB\n",
        "from sklearn.discriminant_analysis import QuadraticDiscriminantAnalysis\n",
        "import seaborn as sns\n",
        "import matplotlib.pyplot as plt\n",
        "from sklearn.metrics import accuracy_score\n"
      ]
    },
    {
      "cell_type": "code",
      "execution_count": null,
      "metadata": {
        "colab": {
          "base_uri": "https://localhost:8080/",
          "height": 644
        },
        "id": "CzRboL-iKGHb",
        "outputId": "68dd0c8d-cbbe-4b69-a0f4-6bf06c87876e"
      },
      "outputs": [
        {
          "data": {
            "text/html": [
              "\n",
              "  <div id=\"df-ad20de4a-a9a0-4688-ac0f-312a5701c97d\">\n",
              "    <div class=\"colab-df-container\">\n",
              "      <div>\n",
              "<style scoped>\n",
              "    .dataframe tbody tr th:only-of-type {\n",
              "        vertical-align: middle;\n",
              "    }\n",
              "\n",
              "    .dataframe tbody tr th {\n",
              "        vertical-align: top;\n",
              "    }\n",
              "\n",
              "    .dataframe thead th {\n",
              "        text-align: right;\n",
              "    }\n",
              "</style>\n",
              "<table border=\"1\" class=\"dataframe\">\n",
              "  <thead>\n",
              "    <tr style=\"text-align: right;\">\n",
              "      <th></th>\n",
              "      <th>Unnamed: 0</th>\n",
              "      <th>Player</th>\n",
              "      <th>Tm</th>\n",
              "      <th>Pos</th>\n",
              "      <th>Age</th>\n",
              "      <th>G</th>\n",
              "      <th>GS</th>\n",
              "      <th>Cmp</th>\n",
              "      <th>Att</th>\n",
              "      <th>Yds</th>\n",
              "      <th>...</th>\n",
              "      <th>FumblesLost</th>\n",
              "      <th>PassingYds</th>\n",
              "      <th>PassingTD</th>\n",
              "      <th>PassingAtt</th>\n",
              "      <th>RushingYds</th>\n",
              "      <th>RushingTD</th>\n",
              "      <th>RushingAtt</th>\n",
              "      <th>ReceivingYds</th>\n",
              "      <th>ReceivingTD</th>\n",
              "      <th>FantasyPoints</th>\n",
              "    </tr>\n",
              "  </thead>\n",
              "  <tbody>\n",
              "    <tr>\n",
              "      <th>0</th>\n",
              "      <td>0</td>\n",
              "      <td>Ron Johnson</td>\n",
              "      <td>NYG</td>\n",
              "      <td>RB</td>\n",
              "      <td>23.0</td>\n",
              "      <td>14.0</td>\n",
              "      <td>14.0</td>\n",
              "      <td>0.0</td>\n",
              "      <td>0.0</td>\n",
              "      <td>0.0</td>\n",
              "      <td>...</td>\n",
              "      <td>0.0</td>\n",
              "      <td>0.0</td>\n",
              "      <td>0.0</td>\n",
              "      <td>0.0</td>\n",
              "      <td>1027.0</td>\n",
              "      <td>8.0</td>\n",
              "      <td>263.0</td>\n",
              "      <td>487.0</td>\n",
              "      <td>4.0</td>\n",
              "      <td>261.40</td>\n",
              "    </tr>\n",
              "    <tr>\n",
              "      <th>1</th>\n",
              "      <td>1</td>\n",
              "      <td>Dick Gordon</td>\n",
              "      <td>CHI</td>\n",
              "      <td>WR</td>\n",
              "      <td>26.0</td>\n",
              "      <td>14.0</td>\n",
              "      <td>14.0</td>\n",
              "      <td>0.0</td>\n",
              "      <td>0.0</td>\n",
              "      <td>0.0</td>\n",
              "      <td>...</td>\n",
              "      <td>0.0</td>\n",
              "      <td>0.0</td>\n",
              "      <td>0.0</td>\n",
              "      <td>0.0</td>\n",
              "      <td>17.0</td>\n",
              "      <td>0.0</td>\n",
              "      <td>4.0</td>\n",
              "      <td>1026.0</td>\n",
              "      <td>13.0</td>\n",
              "      <td>249.30</td>\n",
              "    </tr>\n",
              "    <tr>\n",
              "      <th>2</th>\n",
              "      <td>2</td>\n",
              "      <td>Gene Washington</td>\n",
              "      <td>SFO</td>\n",
              "      <td>WR</td>\n",
              "      <td>23.0</td>\n",
              "      <td>13.0</td>\n",
              "      <td>13.0</td>\n",
              "      <td>0.0</td>\n",
              "      <td>0.0</td>\n",
              "      <td>0.0</td>\n",
              "      <td>...</td>\n",
              "      <td>0.0</td>\n",
              "      <td>0.0</td>\n",
              "      <td>0.0</td>\n",
              "      <td>0.0</td>\n",
              "      <td>0.0</td>\n",
              "      <td>0.0</td>\n",
              "      <td>0.0</td>\n",
              "      <td>1100.0</td>\n",
              "      <td>12.0</td>\n",
              "      <td>235.00</td>\n",
              "    </tr>\n",
              "    <tr>\n",
              "      <th>3</th>\n",
              "      <td>3</td>\n",
              "      <td>Gary Garrison</td>\n",
              "      <td>SDG</td>\n",
              "      <td>WR</td>\n",
              "      <td>26.0</td>\n",
              "      <td>14.0</td>\n",
              "      <td>14.0</td>\n",
              "      <td>0.0</td>\n",
              "      <td>0.0</td>\n",
              "      <td>0.0</td>\n",
              "      <td>...</td>\n",
              "      <td>0.0</td>\n",
              "      <td>0.0</td>\n",
              "      <td>0.0</td>\n",
              "      <td>0.0</td>\n",
              "      <td>7.0</td>\n",
              "      <td>0.0</td>\n",
              "      <td>4.0</td>\n",
              "      <td>1006.0</td>\n",
              "      <td>12.0</td>\n",
              "      <td>217.30</td>\n",
              "    </tr>\n",
              "    <tr>\n",
              "      <th>4</th>\n",
              "      <td>4</td>\n",
              "      <td>MacArthur Lane</td>\n",
              "      <td>STL</td>\n",
              "      <td>RB</td>\n",
              "      <td>28.0</td>\n",
              "      <td>14.0</td>\n",
              "      <td>14.0</td>\n",
              "      <td>0.0</td>\n",
              "      <td>0.0</td>\n",
              "      <td>0.0</td>\n",
              "      <td>...</td>\n",
              "      <td>0.0</td>\n",
              "      <td>0.0</td>\n",
              "      <td>0.0</td>\n",
              "      <td>0.0</td>\n",
              "      <td>977.0</td>\n",
              "      <td>11.0</td>\n",
              "      <td>206.0</td>\n",
              "      <td>365.0</td>\n",
              "      <td>2.0</td>\n",
              "      <td>240.20</td>\n",
              "    </tr>\n",
              "    <tr>\n",
              "      <th>...</th>\n",
              "      <td>...</td>\n",
              "      <td>...</td>\n",
              "      <td>...</td>\n",
              "      <td>...</td>\n",
              "      <td>...</td>\n",
              "      <td>...</td>\n",
              "      <td>...</td>\n",
              "      <td>...</td>\n",
              "      <td>...</td>\n",
              "      <td>...</td>\n",
              "      <td>...</td>\n",
              "      <td>...</td>\n",
              "      <td>...</td>\n",
              "      <td>...</td>\n",
              "      <td>...</td>\n",
              "      <td>...</td>\n",
              "      <td>...</td>\n",
              "      <td>...</td>\n",
              "      <td>...</td>\n",
              "      <td>...</td>\n",
              "      <td>...</td>\n",
              "    </tr>\n",
              "    <tr>\n",
              "      <th>379</th>\n",
              "      <td>379</td>\n",
              "      <td>Harry Wilson</td>\n",
              "      <td>PHI</td>\n",
              "      <td>0</td>\n",
              "      <td>26.0</td>\n",
              "      <td>1.0</td>\n",
              "      <td>0.0</td>\n",
              "      <td>0.0</td>\n",
              "      <td>0.0</td>\n",
              "      <td>0.0</td>\n",
              "      <td>...</td>\n",
              "      <td>0.0</td>\n",
              "      <td>0.0</td>\n",
              "      <td>0.0</td>\n",
              "      <td>0.0</td>\n",
              "      <td>0.0</td>\n",
              "      <td>0.0</td>\n",
              "      <td>0.0</td>\n",
              "      <td>0.0</td>\n",
              "      <td>0.0</td>\n",
              "      <td>0.00</td>\n",
              "    </tr>\n",
              "    <tr>\n",
              "      <th>380</th>\n",
              "      <td>380</td>\n",
              "      <td>Paul Zaeske</td>\n",
              "      <td>HOU</td>\n",
              "      <td>0</td>\n",
              "      <td>25.0</td>\n",
              "      <td>5.0</td>\n",
              "      <td>0.0</td>\n",
              "      <td>0.0</td>\n",
              "      <td>0.0</td>\n",
              "      <td>0.0</td>\n",
              "      <td>...</td>\n",
              "      <td>0.0</td>\n",
              "      <td>0.0</td>\n",
              "      <td>0.0</td>\n",
              "      <td>0.0</td>\n",
              "      <td>0.0</td>\n",
              "      <td>0.0</td>\n",
              "      <td>0.0</td>\n",
              "      <td>0.0</td>\n",
              "      <td>0.0</td>\n",
              "      <td>0.00</td>\n",
              "    </tr>\n",
              "    <tr>\n",
              "      <th>381</th>\n",
              "      <td>381</td>\n",
              "      <td>Ken Brown</td>\n",
              "      <td>CLE</td>\n",
              "      <td>RB</td>\n",
              "      <td>25.0</td>\n",
              "      <td>11.0</td>\n",
              "      <td>0.0</td>\n",
              "      <td>0.0</td>\n",
              "      <td>0.0</td>\n",
              "      <td>0.0</td>\n",
              "      <td>...</td>\n",
              "      <td>0.0</td>\n",
              "      <td>0.0</td>\n",
              "      <td>0.0</td>\n",
              "      <td>0.0</td>\n",
              "      <td>-8.0</td>\n",
              "      <td>0.0</td>\n",
              "      <td>1.0</td>\n",
              "      <td>0.0</td>\n",
              "      <td>0.0</td>\n",
              "      <td>-0.80</td>\n",
              "    </tr>\n",
              "    <tr>\n",
              "      <th>382</th>\n",
              "      <td>382</td>\n",
              "      <td>John Huarte</td>\n",
              "      <td>KAN</td>\n",
              "      <td>QB</td>\n",
              "      <td>27.0</td>\n",
              "      <td>1.0</td>\n",
              "      <td>0.0</td>\n",
              "      <td>0.0</td>\n",
              "      <td>2.0</td>\n",
              "      <td>0.0</td>\n",
              "      <td>...</td>\n",
              "      <td>0.0</td>\n",
              "      <td>0.0</td>\n",
              "      <td>0.0</td>\n",
              "      <td>2.0</td>\n",
              "      <td>0.0</td>\n",
              "      <td>0.0</td>\n",
              "      <td>0.0</td>\n",
              "      <td>0.0</td>\n",
              "      <td>0.0</td>\n",
              "      <td>-2.00</td>\n",
              "    </tr>\n",
              "    <tr>\n",
              "      <th>383</th>\n",
              "      <td>383</td>\n",
              "      <td>Don Gault</td>\n",
              "      <td>CLE</td>\n",
              "      <td>QB</td>\n",
              "      <td>24.0</td>\n",
              "      <td>2.0</td>\n",
              "      <td>1.0</td>\n",
              "      <td>2.0</td>\n",
              "      <td>19.0</td>\n",
              "      <td>67.0</td>\n",
              "      <td>...</td>\n",
              "      <td>0.0</td>\n",
              "      <td>67.0</td>\n",
              "      <td>0.0</td>\n",
              "      <td>19.0</td>\n",
              "      <td>0.0</td>\n",
              "      <td>0.0</td>\n",
              "      <td>0.0</td>\n",
              "      <td>0.0</td>\n",
              "      <td>0.0</td>\n",
              "      <td>-5.32</td>\n",
              "    </tr>\n",
              "  </tbody>\n",
              "</table>\n",
              "<p>384 rows × 27 columns</p>\n",
              "</div>\n",
              "      <button class=\"colab-df-convert\" onclick=\"convertToInteractive('df-ad20de4a-a9a0-4688-ac0f-312a5701c97d')\"\n",
              "              title=\"Convert this dataframe to an interactive table.\"\n",
              "              style=\"display:none;\">\n",
              "        \n",
              "  <svg xmlns=\"http://www.w3.org/2000/svg\" height=\"24px\"viewBox=\"0 0 24 24\"\n",
              "       width=\"24px\">\n",
              "    <path d=\"M0 0h24v24H0V0z\" fill=\"none\"/>\n",
              "    <path d=\"M18.56 5.44l.94 2.06.94-2.06 2.06-.94-2.06-.94-.94-2.06-.94 2.06-2.06.94zm-11 1L8.5 8.5l.94-2.06 2.06-.94-2.06-.94L8.5 2.5l-.94 2.06-2.06.94zm10 10l.94 2.06.94-2.06 2.06-.94-2.06-.94-.94-2.06-.94 2.06-2.06.94z\"/><path d=\"M17.41 7.96l-1.37-1.37c-.4-.4-.92-.59-1.43-.59-.52 0-1.04.2-1.43.59L10.3 9.45l-7.72 7.72c-.78.78-.78 2.05 0 2.83L4 21.41c.39.39.9.59 1.41.59.51 0 1.02-.2 1.41-.59l7.78-7.78 2.81-2.81c.8-.78.8-2.07 0-2.86zM5.41 20L4 18.59l7.72-7.72 1.47 1.35L5.41 20z\"/>\n",
              "  </svg>\n",
              "      </button>\n",
              "      \n",
              "  <style>\n",
              "    .colab-df-container {\n",
              "      display:flex;\n",
              "      flex-wrap:wrap;\n",
              "      gap: 12px;\n",
              "    }\n",
              "\n",
              "    .colab-df-convert {\n",
              "      background-color: #E8F0FE;\n",
              "      border: none;\n",
              "      border-radius: 50%;\n",
              "      cursor: pointer;\n",
              "      display: none;\n",
              "      fill: #1967D2;\n",
              "      height: 32px;\n",
              "      padding: 0 0 0 0;\n",
              "      width: 32px;\n",
              "    }\n",
              "\n",
              "    .colab-df-convert:hover {\n",
              "      background-color: #E2EBFA;\n",
              "      box-shadow: 0px 1px 2px rgba(60, 64, 67, 0.3), 0px 1px 3px 1px rgba(60, 64, 67, 0.15);\n",
              "      fill: #174EA6;\n",
              "    }\n",
              "\n",
              "    [theme=dark] .colab-df-convert {\n",
              "      background-color: #3B4455;\n",
              "      fill: #D2E3FC;\n",
              "    }\n",
              "\n",
              "    [theme=dark] .colab-df-convert:hover {\n",
              "      background-color: #434B5C;\n",
              "      box-shadow: 0px 1px 3px 1px rgba(0, 0, 0, 0.15);\n",
              "      filter: drop-shadow(0px 1px 2px rgba(0, 0, 0, 0.3));\n",
              "      fill: #FFFFFF;\n",
              "    }\n",
              "  </style>\n",
              "\n",
              "      <script>\n",
              "        const buttonEl =\n",
              "          document.querySelector('#df-ad20de4a-a9a0-4688-ac0f-312a5701c97d button.colab-df-convert');\n",
              "        buttonEl.style.display =\n",
              "          google.colab.kernel.accessAllowed ? 'block' : 'none';\n",
              "\n",
              "        async function convertToInteractive(key) {\n",
              "          const element = document.querySelector('#df-ad20de4a-a9a0-4688-ac0f-312a5701c97d');\n",
              "          const dataTable =\n",
              "            await google.colab.kernel.invokeFunction('convertToInteractive',\n",
              "                                                     [key], {});\n",
              "          if (!dataTable) return;\n",
              "\n",
              "          const docLinkHtml = 'Like what you see? Visit the ' +\n",
              "            '<a target=\"_blank\" href=https://colab.research.google.com/notebooks/data_table.ipynb>data table notebook</a>'\n",
              "            + ' to learn more about interactive tables.';\n",
              "          element.innerHTML = '';\n",
              "          dataTable['output_type'] = 'display_data';\n",
              "          await google.colab.output.renderOutput(dataTable, element);\n",
              "          const docLink = document.createElement('div');\n",
              "          docLink.innerHTML = docLinkHtml;\n",
              "          element.appendChild(docLink);\n",
              "        }\n",
              "      </script>\n",
              "    </div>\n",
              "  </div>\n",
              "  "
            ],
            "text/plain": [
              "     Unnamed: 0           Player   Tm Pos   Age     G    GS  Cmp   Att   Yds  \\\n",
              "0             0      Ron Johnson  NYG  RB  23.0  14.0  14.0  0.0   0.0   0.0   \n",
              "1             1      Dick Gordon  CHI  WR  26.0  14.0  14.0  0.0   0.0   0.0   \n",
              "2             2  Gene Washington  SFO  WR  23.0  13.0  13.0  0.0   0.0   0.0   \n",
              "3             3    Gary Garrison  SDG  WR  26.0  14.0  14.0  0.0   0.0   0.0   \n",
              "4             4   MacArthur Lane  STL  RB  28.0  14.0  14.0  0.0   0.0   0.0   \n",
              "..          ...              ...  ...  ..   ...   ...   ...  ...   ...   ...   \n",
              "379         379     Harry Wilson  PHI   0  26.0   1.0   0.0  0.0   0.0   0.0   \n",
              "380         380      Paul Zaeske  HOU   0  25.0   5.0   0.0  0.0   0.0   0.0   \n",
              "381         381        Ken Brown  CLE  RB  25.0  11.0   0.0  0.0   0.0   0.0   \n",
              "382         382      John Huarte  KAN  QB  27.0   1.0   0.0  0.0   2.0   0.0   \n",
              "383         383        Don Gault  CLE  QB  24.0   2.0   1.0  2.0  19.0  67.0   \n",
              "\n",
              "     ...  FumblesLost  PassingYds  PassingTD  PassingAtt  RushingYds  \\\n",
              "0    ...          0.0         0.0        0.0         0.0      1027.0   \n",
              "1    ...          0.0         0.0        0.0         0.0        17.0   \n",
              "2    ...          0.0         0.0        0.0         0.0         0.0   \n",
              "3    ...          0.0         0.0        0.0         0.0         7.0   \n",
              "4    ...          0.0         0.0        0.0         0.0       977.0   \n",
              "..   ...          ...         ...        ...         ...         ...   \n",
              "379  ...          0.0         0.0        0.0         0.0         0.0   \n",
              "380  ...          0.0         0.0        0.0         0.0         0.0   \n",
              "381  ...          0.0         0.0        0.0         0.0        -8.0   \n",
              "382  ...          0.0         0.0        0.0         2.0         0.0   \n",
              "383  ...          0.0        67.0        0.0        19.0         0.0   \n",
              "\n",
              "     RushingTD  RushingAtt  ReceivingYds  ReceivingTD  FantasyPoints  \n",
              "0          8.0       263.0         487.0          4.0         261.40  \n",
              "1          0.0         4.0        1026.0         13.0         249.30  \n",
              "2          0.0         0.0        1100.0         12.0         235.00  \n",
              "3          0.0         4.0        1006.0         12.0         217.30  \n",
              "4         11.0       206.0         365.0          2.0         240.20  \n",
              "..         ...         ...           ...          ...            ...  \n",
              "379        0.0         0.0           0.0          0.0           0.00  \n",
              "380        0.0         0.0           0.0          0.0           0.00  \n",
              "381        0.0         1.0           0.0          0.0          -0.80  \n",
              "382        0.0         0.0           0.0          0.0          -2.00  \n",
              "383        0.0         0.0           0.0          0.0          -5.32  \n",
              "\n",
              "[384 rows x 27 columns]"
            ]
          },
          "execution_count": 19,
          "metadata": {},
          "output_type": "execute_result"
        }
      ],
      "source": [
        "import pandas as pd\n",
        "listOfData = [];\n",
        "for x in range(70,99):\n",
        "  test = pd.read_csv('19' + str(x) + '.csv')\n",
        "  listOfData.append(pd.DataFrame(test))\n",
        "for i in range(0,9):\n",
        "  test2 = pd.read_csv('200' + str(i) + '.csv')\n",
        "  listOfData.append(pd.DataFrame(test2))\n",
        "for i in range(11, 19):\n",
        "  test3 = pd.read_csv('20' + str(i) + '.csv')\n",
        "  listOfData.append(pd.DataFrame(test3))\n",
        "\n",
        "listOfData[0]"
      ]
    },
    {
      "cell_type": "code",
      "execution_count": null,
      "metadata": {
        "id": "dwEygLy7PuB7"
      },
      "outputs": [],
      "source": [
        "from functools import reduce\n",
        "final_df = reduce(lambda  left,right: pd.merge(left,right,\n",
        "                                            how='outer'), listOfData)"
      ]
    },
    {
      "cell_type": "code",
      "execution_count": null,
      "metadata": {
        "colab": {
          "base_uri": "https://localhost:8080/"
        },
        "id": "8WfHfpY2MOLT",
        "outputId": "ddf0b8fc-a64e-4095-f435-0ec21af18147"
      },
      "outputs": [
        {
          "name": "stdout",
          "output_type": "stream",
          "text": [
            "481.1\n",
            "LaDainian Tomlinson\n"
          ]
        }
      ],
      "source": [
        "# Exploring final_df\n",
        "\n",
        "test = list(final_df['FantasyPoints'])\n",
        "max = 0\n",
        "value = 0\n",
        "for i in range(len(test)):\n",
        "  if test[i] > max:\n",
        "    max = test[i];\n",
        "    value = i\n",
        "print(max)\n",
        "test1 = list(final_df['Player'])\n",
        "print(test1[value])"
      ]
    },
    {
      "cell_type": "code",
      "execution_count": null,
      "metadata": {
        "colab": {
          "base_uri": "https://localhost:8080/"
        },
        "id": "XSUh2jDt8sPk",
        "outputId": "a1e6a01e-96fe-498f-a394-a12d0809b4ff"
      },
      "outputs": [
        {
          "data": {
            "text/plain": [
              "['Unnamed: 0',\n",
              " 'Player',\n",
              " 'Tm',\n",
              " 'Pos',\n",
              " 'Age',\n",
              " 'G',\n",
              " 'GS',\n",
              " 'Cmp',\n",
              " 'Att',\n",
              " 'Yds',\n",
              " 'Int',\n",
              " 'Att.1',\n",
              " 'Yds.1',\n",
              " 'Rec',\n",
              " 'Yds.2',\n",
              " 'Y/R',\n",
              " 'Fumbles',\n",
              " 'FumblesLost',\n",
              " 'PassingYds',\n",
              " 'PassingTD',\n",
              " 'PassingAtt',\n",
              " 'RushingYds',\n",
              " 'RushingTD',\n",
              " 'RushingAtt',\n",
              " 'ReceivingYds',\n",
              " 'ReceivingTD',\n",
              " 'FantasyPoints',\n",
              " 'Tgt']"
            ]
          },
          "execution_count": 22,
          "metadata": {},
          "output_type": "execute_result"
        }
      ],
      "source": [
        "final_df.columns.values.tolist()"
      ]
    },
    {
      "cell_type": "code",
      "execution_count": null,
      "metadata": {
        "colab": {
          "base_uri": "https://localhost:8080/"
        },
        "id": "x4yMMy3FkkNG",
        "outputId": "bbdab582-dad9-4157-94ac-c13d82223240"
      },
      "outputs": [
        {
          "name": "stdout",
          "output_type": "stream",
          "text": [
            "Position: RB\n"
          ]
        }
      ],
      "source": [
        "#Filter data\n",
        "\n",
        "\n",
        "pos = input('Position: ')\n",
        "posList = final_df['Pos']\n",
        "for x in range(len(posList)):\n",
        "  if(posList[x] != pos):\n",
        "    final_df = final_df.drop(index = x)\n",
        "\n"
      ]
    },
    {
      "cell_type": "code",
      "execution_count": null,
      "metadata": {
        "colab": {
          "base_uri": "https://localhost:8080/"
        },
        "id": "xLE0ovyeUKfH",
        "outputId": "774c1a81-3fbb-4ac5-d2cd-f1951b5b6b5f"
      },
      "outputs": [
        {
          "data": {
            "text/plain": [
              "<bound method DataFrame.dropna of        Unnamed: 0               Player   Tm Pos   Age     G    GS  Cmp  Att  \\\n",
              "0               0          Ron Johnson  NYG  RB  23.0  14.0  14.0  0.0  0.0   \n",
              "4               4       MacArthur Lane  STL  RB  28.0  14.0  14.0  0.0  0.0   \n",
              "9               9          Larry Brown  WAS  RB  23.0  13.0  13.0  0.0  0.0   \n",
              "13             13          Ken Willard  SFO  RB  27.0  14.0  14.0  0.0  0.0   \n",
              "14             14             Bo Scott  CLE  RB  27.0  13.0  13.0  0.0  0.0   \n",
              "...           ...                  ...  ...  ..   ...   ...   ...  ...  ...   \n",
              "23711         534           Derek Watt  LAC  RB  26.0  16.0   5.0  0.0  0.0   \n",
              "23743         566  De'Angelo Henderson  NYJ  RB  26.0   3.0   0.0  0.0  0.0   \n",
              "23780         603         Danny Vitale  GNB  RB  25.0   5.0   0.0  0.0  0.0   \n",
              "23786         609    Jonathan Williams  NOR  RB  24.0   3.0   0.0  0.0  0.0   \n",
              "23793         616        Robert Turbin  IND  RB  29.0   2.0   0.0  0.0  0.0   \n",
              "\n",
              "       Yds  ...  PassingYds  PassingTD  PassingAtt  RushingYds  RushingTD  \\\n",
              "0      0.0  ...         0.0        0.0         0.0      1027.0        8.0   \n",
              "4      0.0  ...         0.0        0.0         0.0       977.0       11.0   \n",
              "9      0.0  ...         0.0        0.0         0.0      1125.0        5.0   \n",
              "13     0.0  ...         0.0        0.0         0.0       789.0        7.0   \n",
              "14     0.0  ...         0.0        0.0         0.0       625.0        7.0   \n",
              "...    ...  ...         ...        ...         ...         ...        ...   \n",
              "23711  0.0  ...         0.0        0.0         0.0        11.0        0.0   \n",
              "23743  0.0  ...         0.0        0.0         0.0        19.0        0.0   \n",
              "23780  0.0  ...         0.0        0.0         0.0         0.0        0.0   \n",
              "23786  0.0  ...         0.0        0.0         0.0         0.0        0.0   \n",
              "23793  0.0  ...         0.0        0.0         0.0        10.0        0.0   \n",
              "\n",
              "       RushingAtt  ReceivingYds  ReceivingTD  FantasyPoints  Tgt  \n",
              "0           263.0         487.0          4.0          261.4  NaN  \n",
              "4           206.0         365.0          2.0          240.2  NaN  \n",
              "9           237.0         341.0          2.0          213.6  NaN  \n",
              "13          236.0         259.0          3.0          189.8  NaN  \n",
              "14          151.0         351.0          4.0          195.6  NaN  \n",
              "...           ...           ...          ...            ...  ...  \n",
              "23711         4.0           2.0          0.0            2.3  1.0  \n",
              "23743         2.0           0.0          0.0           -0.1  0.0  \n",
              "23780         0.0           2.0          0.0            1.2  2.0  \n",
              "23786         3.0           1.0          0.0            1.1  1.0  \n",
              "23793         4.0           3.0          0.0            0.3  2.0  \n",
              "\n",
              "[7123 rows x 28 columns]>"
            ]
          },
          "execution_count": 24,
          "metadata": {},
          "output_type": "execute_result"
        }
      ],
      "source": [
        "final_df.dropna"
      ]
    },
    {
      "cell_type": "code",
      "execution_count": null,
      "metadata": {
        "id": "saShI8kgIveS"
      },
      "outputs": [],
      "source": [
        "x = final_df[[       \n",
        "              'Age',\n",
        "              'Rec',           \n",
        "              'Y/R',\n",
        "              'Fumbles',\n",
        "              'FumblesLost',\n",
        "              'RushingYds',\n",
        "              'RushingTD',\n",
        "              'RushingAtt',\n",
        "              'ReceivingYds',\n",
        "              'ReceivingTD',\n",
        "               ]]\n",
        "\n",
        "y = final_df[['FantasyPoints']]"
      ]
    },
    {
      "cell_type": "code",
      "execution_count": null,
      "metadata": {
        "id": "HOB03EQmCuR9"
      },
      "outputs": [],
      "source": [
        "X_train, X_test, y_train, y_test = train_test_split(x, y, test_size=0.3, random_state=101)\n",
        "model = LinearRegression(fit_intercept = True, normalize = True)"
      ]
    },
    {
      "cell_type": "code",
      "execution_count": null,
      "metadata": {
        "colab": {
          "base_uri": "https://localhost:8080/"
        },
        "id": "gbXPygZCWs3e",
        "outputId": "82412efc-d075-44de-8085-dd6b1a0ee342"
      },
      "outputs": [
        {
          "name": "stderr",
          "output_type": "stream",
          "text": [
            "/usr/local/lib/python3.7/dist-packages/sklearn/linear_model/_base.py:145: FutureWarning: 'normalize' was deprecated in version 1.0 and will be removed in 1.2.\n",
            "If you wish to scale the data, use Pipeline with a StandardScaler in a preprocessing stage. To reproduce the previous behavior:\n",
            "\n",
            "from sklearn.pipeline import make_pipeline\n",
            "\n",
            "model = make_pipeline(StandardScaler(with_mean=False), LinearRegression())\n",
            "\n",
            "If you wish to pass a sample_weight parameter, you need to pass it as a fit parameter to each step of the pipeline as follows:\n",
            "\n",
            "kwargs = {s[0] + '__sample_weight': sample_weight for s in model.steps}\n",
            "model.fit(X, y, **kwargs)\n",
            "\n",
            "\n",
            "  FutureWarning,\n"
          ]
        },
        {
          "data": {
            "text/plain": [
              "LinearRegression(normalize=True)"
            ]
          },
          "execution_count": 27,
          "metadata": {},
          "output_type": "execute_result"
        }
      ],
      "source": [
        "model.fit(X_train, y_train)"
      ]
    },
    {
      "cell_type": "code",
      "execution_count": null,
      "metadata": {
        "colab": {
          "base_uri": "https://localhost:8080/"
        },
        "id": "-ChSQX7uYb09",
        "outputId": "00459588-a630-4801-8071-09f597815470"
      },
      "outputs": [
        {
          "name": "stdout",
          "output_type": "stream",
          "text": [
            "Our multiple linear model had an R^2 of: 0.236\n"
          ]
        }
      ],
      "source": [
        "prediction = model.predict(X_train)\n",
        "print('Our multiple linear model had an R^2 of: %0.3f'%model.score(X_train, y_train))"
      ]
    },
    {
      "cell_type": "code",
      "execution_count": null,
      "metadata": {
        "colab": {
          "base_uri": "https://localhost:8080/"
        },
        "id": "h6CO_Xs_ZiO9",
        "outputId": "b9148f9f-7564-4aa9-9d49-e3f2fcabcc16"
      },
      "outputs": [
        {
          "name": "stdout",
          "output_type": "stream",
          "text": [
            "        Age   Rec    Y/R  Fumbles  FumblesLost  RushingYds  RushingTD  \\\n",
            "13925  26.0  16.0   8.00      2.0          1.0         9.0        0.0   \n",
            "16506  28.0  15.0   5.20      5.0          1.0      1880.0       27.0   \n",
            "1563   26.0  46.0   7.22      6.0          0.0       561.0        2.0   \n",
            "14345  33.0  17.0   4.00      1.0          1.0       658.0        3.0   \n",
            "5780   25.0   1.0  19.00      1.0          0.0        98.0        1.0   \n",
            "...     ...   ...    ...      ...          ...         ...        ...   \n",
            "1602   31.0  29.0   6.76      1.0          0.0       514.0        4.0   \n",
            "18458  25.0  29.0   8.79      0.0          0.0       187.0        1.0   \n",
            "3709   23.0  54.0   8.00      6.0          0.0       500.0        8.0   \n",
            "4214   25.0  43.0   8.05      4.0          0.0       359.0        3.0   \n",
            "15800  23.0   3.0   4.33      0.0          0.0         9.0        0.0   \n",
            "\n",
            "       RushingAtt  ReceivingYds  ReceivingTD  \n",
            "13925         2.0         128.0          2.0  \n",
            "16506       370.0          78.0          1.0  \n",
            "1563        156.0         332.0          3.0  \n",
            "14345       168.0          68.0          0.0  \n",
            "5780         23.0          19.0          0.0  \n",
            "...           ...           ...          ...  \n",
            "1602        131.0         196.0          0.0  \n",
            "18458        31.0         255.0          1.0  \n",
            "3709        152.0         432.0          1.0  \n",
            "4214         97.0         346.0          0.0  \n",
            "15800         1.0          13.0          0.0  \n",
            "\n",
            "[4986 rows x 10 columns]\n",
            "Age: 24\n",
            "Rec: 1\n",
            "Y/R: 1\n",
            "Fumbles: 1\n",
            "Fumbles lost: 1\n",
            "Rushing yards: 1\n",
            "Rushing TDs: 1\n",
            "Rushing Attempts: 1\n",
            "Receiving yards: 1\n",
            "Receiving Touchdowns: 1\n"
          ]
        }
      ],
      "source": [
        "11\n",
        "print(X_train)\n",
        "testData = pd.DataFrame(columns = ['Age', 'Rec', 'Y/R', 'Fumbles', 'FumblesLost', 'RushingYds', 'RushingTD', 'RushingAtt', 'ReceivingYds', 'ReceivingTD'])\n",
        "\n",
        "age = input('Age: ')\n",
        "\n",
        "rec = input('Rec: ')\n",
        "yr = input('Y/R: ')\n",
        "fumbles = input('Fumbles: ')\n",
        "fumblesLost = input('Fumbles lost: ')\n",
        "rushingYds = input('Rushing yards: ')\n",
        "RushingTD = input('Rushing TDs: ')\n",
        "rushingAtt = input('Rushing Attempts: ')\n",
        "receivingYds = input('Receiving yards: ')\n",
        "receivingTds = input('Receiving Touchdowns: ')\n",
        "\n",
        "rec = [age, rec, yr, fumbles, fumblesLost, rushingYds, RushingTD, rushingAtt, receivingTds, receivingTds]\n",
        "testData.loc[len(testData)+1] = rec"
      ]
    },
    {
      "cell_type": "code",
      "execution_count": null,
      "metadata": {
        "colab": {
          "base_uri": "https://localhost:8080/"
        },
        "id": "7lrnUQ4oYYj2",
        "outputId": "febc406c-1bbc-4770-8186-26367b311d27"
      },
      "outputs": [
        {
          "data": {
            "text/plain": [
              "array([[11.82050833]])"
            ]
          },
          "execution_count": 32,
          "metadata": {},
          "output_type": "execute_result"
        }
      ],
      "source": [
        "model.predict(testData)"
      ]
    },
    {
      "cell_type": "markdown",
      "metadata": {
        "id": "BTdWieMjH9wc"
      },
      "source": [
        "#Phase 2\n",
        "Goal: Create a Dataset with yearly stats and future points"
      ]
    },
    {
      "cell_type": "code",
      "execution_count": null,
      "metadata": {
        "id": "NdVTuyWNIgp7"
      },
      "outputs": [],
      "source": [
        "#Import machine learning libraries\n",
        "from sklearn.model_selection import train_test_split\n",
        "from sklearn.linear_model import LogisticRegression\n",
        "from sklearn.linear_model import LinearRegression\n",
        "from sklearn.neighbors import KNeighborsClassifier\n",
        "from sklearn import tree\n",
        "from sklearn.metrics import confusion_matrix, classification_report\n",
        "from sklearn.metrics import precision_recall_curve\n",
        "from sklearn.metrics import roc_auc_score\n",
        "from sklearn.base import BaseEstimator\n",
        "\n",
        "from sklearn.neural_network import MLPClassifier\n",
        "from sklearn.neighbors import KNeighborsClassifier\n",
        "from sklearn.svm import SVC\n",
        "from sklearn.gaussian_process import GaussianProcessClassifier\n",
        "from sklearn.gaussian_process.kernels import RBF\n",
        "from sklearn.tree import DecisionTreeClassifier\n",
        "from sklearn.ensemble import RandomForestClassifier, AdaBoostClassifier\n",
        "from sklearn.naive_bayes import GaussianNB\n",
        "from sklearn.discriminant_analysis import QuadraticDiscriminantAnalysis\n",
        "import seaborn as sns\n",
        "import matplotlib.pyplot as plt\n",
        "from sklearn.metrics import accuracy_score\n",
        "import pandas as pd\n",
        "from sklearn.metrics import r2_score\n"
      ]
    },
    {
      "cell_type": "code",
      "execution_count": null,
      "metadata": {
        "colab": {
          "background_save": true
        },
        "id": "yQ_5A7yFImNH"
      },
      "outputs": [],
      "source": [
        "dataset = pd.DataFrame({'Name':['test']*18090, 'Age':[1]*18090, 'Yards':[1]*18090, 'Receptions':[1]*18090, 'Season':[1]*18090})"
      ]
    },
    {
      "cell_type": "code",
      "execution_count": null,
      "metadata": {
        "id": "zRVw2ro1O1R6"
      },
      "outputs": [],
      "source": [
        "ind = 0\n",
        "tester = True\n",
        "\n",
        "#Iterates through all the datasets\n",
        "for i in range(1970,2017):\n",
        "  testData = pd.read_csv(str(i) + '.csv')\n",
        "  futureData = pd.read_csv(str(i+1) + '.csv')\n",
        "\n",
        "  testData = pd.DataFrame(testData)\n",
        "  futureData = pd.DataFrame(futureData)\n",
        "\n",
        "\n",
        "  #Iterates through test data (current data)\n",
        "  for x in range(0, len(testData)): \n",
        "    #Gets the player from the current year\n",
        "    player1 = testData['Player'][x]\n",
        "    #Iterates through the future data (next year)\n",
        "    for i in range(0, len(futureData)): \n",
        "      #Gets the player from the next year\n",
        "      player2 = futureData['Player'][i]\n",
        "      #Checks to see if player1 played both years\n",
        "      if (player1 == player2): \n",
        "        #Adds correct values to the dataset\n",
        "        dataset.loc[ind, \"Name\"] = testData['Player'][x]\n",
        "        dataset.loc[ind, \"Age\"] = futureData['Age'][i]\n",
        "        dataset.loc[ind, \"Yards\"] = testData['ReceivingYds'][x]\n",
        "        dataset.loc[ind, \"Receptions\"] = testData['Rec'][x]\n",
        "        #1 is a good season\n",
        "        #0 is a bad season\n",
        "        if (futureData['FantasyPoints'][i] > 180): \n",
        "          dataset.loc[ind, \"Season\"] = 1\n",
        "        else:\n",
        "          dataset.loc[ind, \"Season\"] = 0\n",
        "\n",
        "        ind = ind +1"
      ]
    },
    {
      "cell_type": "code",
      "execution_count": null,
      "metadata": {
        "colab": {
          "base_uri": "https://localhost:8080/",
          "height": 206
        },
        "id": "7izsPG_-53A_",
        "outputId": "b035e133-ce29-480b-811c-cce653fb1b14"
      },
      "outputs": [
        {
          "data": {
            "text/html": [
              "\n",
              "  <div id=\"df-7b8da283-91f4-450a-9c4e-40e4e80d5eb7\">\n",
              "    <div class=\"colab-df-container\">\n",
              "      <div>\n",
              "<style scoped>\n",
              "    .dataframe tbody tr th:only-of-type {\n",
              "        vertical-align: middle;\n",
              "    }\n",
              "\n",
              "    .dataframe tbody tr th {\n",
              "        vertical-align: top;\n",
              "    }\n",
              "\n",
              "    .dataframe thead th {\n",
              "        text-align: right;\n",
              "    }\n",
              "</style>\n",
              "<table border=\"1\" class=\"dataframe\">\n",
              "  <thead>\n",
              "    <tr style=\"text-align: right;\">\n",
              "      <th></th>\n",
              "      <th>Name</th>\n",
              "      <th>Age</th>\n",
              "      <th>Yards</th>\n",
              "      <th>Receptions</th>\n",
              "      <th>Season</th>\n",
              "    </tr>\n",
              "  </thead>\n",
              "  <tbody>\n",
              "    <tr>\n",
              "      <th>0</th>\n",
              "      <td>Ron Johnson</td>\n",
              "      <td>24</td>\n",
              "      <td>487</td>\n",
              "      <td>48</td>\n",
              "      <td>0</td>\n",
              "    </tr>\n",
              "    <tr>\n",
              "      <th>1</th>\n",
              "      <td>Dick Gordon</td>\n",
              "      <td>27</td>\n",
              "      <td>1026</td>\n",
              "      <td>71</td>\n",
              "      <td>0</td>\n",
              "    </tr>\n",
              "    <tr>\n",
              "      <th>2</th>\n",
              "      <td>Gene Washington</td>\n",
              "      <td>24</td>\n",
              "      <td>1100</td>\n",
              "      <td>53</td>\n",
              "      <td>0</td>\n",
              "    </tr>\n",
              "    <tr>\n",
              "      <th>3</th>\n",
              "      <td>Gene Washington</td>\n",
              "      <td>27</td>\n",
              "      <td>1100</td>\n",
              "      <td>53</td>\n",
              "      <td>0</td>\n",
              "    </tr>\n",
              "    <tr>\n",
              "      <th>4</th>\n",
              "      <td>Gary Garrison</td>\n",
              "      <td>27</td>\n",
              "      <td>1006</td>\n",
              "      <td>44</td>\n",
              "      <td>0</td>\n",
              "    </tr>\n",
              "  </tbody>\n",
              "</table>\n",
              "</div>\n",
              "      <button class=\"colab-df-convert\" onclick=\"convertToInteractive('df-7b8da283-91f4-450a-9c4e-40e4e80d5eb7')\"\n",
              "              title=\"Convert this dataframe to an interactive table.\"\n",
              "              style=\"display:none;\">\n",
              "        \n",
              "  <svg xmlns=\"http://www.w3.org/2000/svg\" height=\"24px\"viewBox=\"0 0 24 24\"\n",
              "       width=\"24px\">\n",
              "    <path d=\"M0 0h24v24H0V0z\" fill=\"none\"/>\n",
              "    <path d=\"M18.56 5.44l.94 2.06.94-2.06 2.06-.94-2.06-.94-.94-2.06-.94 2.06-2.06.94zm-11 1L8.5 8.5l.94-2.06 2.06-.94-2.06-.94L8.5 2.5l-.94 2.06-2.06.94zm10 10l.94 2.06.94-2.06 2.06-.94-2.06-.94-.94-2.06-.94 2.06-2.06.94z\"/><path d=\"M17.41 7.96l-1.37-1.37c-.4-.4-.92-.59-1.43-.59-.52 0-1.04.2-1.43.59L10.3 9.45l-7.72 7.72c-.78.78-.78 2.05 0 2.83L4 21.41c.39.39.9.59 1.41.59.51 0 1.02-.2 1.41-.59l7.78-7.78 2.81-2.81c.8-.78.8-2.07 0-2.86zM5.41 20L4 18.59l7.72-7.72 1.47 1.35L5.41 20z\"/>\n",
              "  </svg>\n",
              "      </button>\n",
              "      \n",
              "  <style>\n",
              "    .colab-df-container {\n",
              "      display:flex;\n",
              "      flex-wrap:wrap;\n",
              "      gap: 12px;\n",
              "    }\n",
              "\n",
              "    .colab-df-convert {\n",
              "      background-color: #E8F0FE;\n",
              "      border: none;\n",
              "      border-radius: 50%;\n",
              "      cursor: pointer;\n",
              "      display: none;\n",
              "      fill: #1967D2;\n",
              "      height: 32px;\n",
              "      padding: 0 0 0 0;\n",
              "      width: 32px;\n",
              "    }\n",
              "\n",
              "    .colab-df-convert:hover {\n",
              "      background-color: #E2EBFA;\n",
              "      box-shadow: 0px 1px 2px rgba(60, 64, 67, 0.3), 0px 1px 3px 1px rgba(60, 64, 67, 0.15);\n",
              "      fill: #174EA6;\n",
              "    }\n",
              "\n",
              "    [theme=dark] .colab-df-convert {\n",
              "      background-color: #3B4455;\n",
              "      fill: #D2E3FC;\n",
              "    }\n",
              "\n",
              "    [theme=dark] .colab-df-convert:hover {\n",
              "      background-color: #434B5C;\n",
              "      box-shadow: 0px 1px 3px 1px rgba(0, 0, 0, 0.15);\n",
              "      filter: drop-shadow(0px 1px 2px rgba(0, 0, 0, 0.3));\n",
              "      fill: #FFFFFF;\n",
              "    }\n",
              "  </style>\n",
              "\n",
              "      <script>\n",
              "        const buttonEl =\n",
              "          document.querySelector('#df-7b8da283-91f4-450a-9c4e-40e4e80d5eb7 button.colab-df-convert');\n",
              "        buttonEl.style.display =\n",
              "          google.colab.kernel.accessAllowed ? 'block' : 'none';\n",
              "\n",
              "        async function convertToInteractive(key) {\n",
              "          const element = document.querySelector('#df-7b8da283-91f4-450a-9c4e-40e4e80d5eb7');\n",
              "          const dataTable =\n",
              "            await google.colab.kernel.invokeFunction('convertToInteractive',\n",
              "                                                     [key], {});\n",
              "          if (!dataTable) return;\n",
              "\n",
              "          const docLinkHtml = 'Like what you see? Visit the ' +\n",
              "            '<a target=\"_blank\" href=https://colab.research.google.com/notebooks/data_table.ipynb>data table notebook</a>'\n",
              "            + ' to learn more about interactive tables.';\n",
              "          element.innerHTML = '';\n",
              "          dataTable['output_type'] = 'display_data';\n",
              "          await google.colab.output.renderOutput(dataTable, element);\n",
              "          const docLink = document.createElement('div');\n",
              "          docLink.innerHTML = docLinkHtml;\n",
              "          element.appendChild(docLink);\n",
              "        }\n",
              "      </script>\n",
              "    </div>\n",
              "  </div>\n",
              "  "
            ],
            "text/plain": [
              "              Name  Age  Yards  Receptions  Season\n",
              "0      Ron Johnson   24    487          48       0\n",
              "1      Dick Gordon   27   1026          71       0\n",
              "2  Gene Washington   24   1100          53       0\n",
              "3  Gene Washington   27   1100          53       0\n",
              "4    Gary Garrison   27   1006          44       0"
            ]
          },
          "execution_count": 11,
          "metadata": {},
          "output_type": "execute_result"
        }
      ],
      "source": [
        "dataset.head()"
      ]
    },
    {
      "cell_type": "code",
      "execution_count": null,
      "metadata": {
        "id": "IjSjb0gwuF5B"
      },
      "outputs": [],
      "source": [
        "x = dataset[[       \n",
        "              'Age',\n",
        "              'Yards',           \n",
        "              'Receptions',\n",
        "               ]]\n",
        "\n",
        "y = dataset[['Season']]"
      ]
    },
    {
      "cell_type": "markdown",
      "metadata": {
        "id": "o8PrqNab1Fh9"
      },
      "source": [
        "#Phase 3\n",
        "Build a machine learning model to compute phase 2 data\n",
        "Try logistical analysis"
      ]
    },
    {
      "cell_type": "code",
      "execution_count": null,
      "metadata": {
        "colab": {
          "base_uri": "https://localhost:8080/"
        },
        "id": "KGZdv2BA1VEv",
        "outputId": "1eff4679-ccd1-4555-e473-99f22f32902a"
      },
      "outputs": [
        {
          "name": "stderr",
          "output_type": "stream",
          "text": [
            "/usr/local/lib/python3.7/dist-packages/sklearn/utils/validation.py:993: DataConversionWarning: A column-vector y was passed when a 1d array was expected. Please change the shape of y to (n_samples, ), for example using ravel().\n",
            "  y = column_or_1d(y, warn=True)\n",
            "/usr/local/lib/python3.7/dist-packages/sklearn/linear_model/_logistic.py:818: ConvergenceWarning: lbfgs failed to converge (status=1):\n",
            "STOP: TOTAL NO. of ITERATIONS REACHED LIMIT.\n",
            "\n",
            "Increase the number of iterations (max_iter) or scale the data as shown in:\n",
            "    https://scikit-learn.org/stable/modules/preprocessing.html\n",
            "Please also refer to the documentation for alternative solver options:\n",
            "    https://scikit-learn.org/stable/modules/linear_model.html#logistic-regression\n",
            "  extra_warning_msg=_LOGISTIC_SOLVER_CONVERGENCE_MSG,\n"
          ]
        },
        {
          "data": {
            "text/plain": [
              "LogisticRegression()"
            ]
          },
          "execution_count": 13,
          "metadata": {},
          "output_type": "execute_result"
        }
      ],
      "source": [
        "#Reclassify points\n",
        "X_train, X_test, y_train, y_test = train_test_split(x, y, test_size=0.3, random_state=101)\n",
        "logModel = LogisticRegression()\n",
        "logModel.fit(X_train, y_train)"
      ]
    },
    {
      "cell_type": "code",
      "execution_count": null,
      "metadata": {
        "id": "9Dxglcqv68Ep"
      },
      "outputs": [],
      "source": [
        "y_pred = logModel.predict(x)"
      ]
    },
    {
      "cell_type": "code",
      "execution_count": null,
      "metadata": {
        "colab": {
          "base_uri": "https://localhost:8080/"
        },
        "id": "4KnSaB1y7KfR",
        "outputId": "1ee50c1c-6ed1-408e-d510-5f4aeaf42ebb"
      },
      "outputs": [
        {
          "data": {
            "text/plain": [
              "18090"
            ]
          },
          "execution_count": 15,
          "metadata": {},
          "output_type": "execute_result"
        }
      ],
      "source": [
        "len(y_pred)"
      ]
    },
    {
      "cell_type": "code",
      "execution_count": null,
      "metadata": {
        "colab": {
          "base_uri": "https://localhost:8080/"
        },
        "id": "TObAiP6_7OAv",
        "outputId": "7283b6c3-f85f-43a2-c06a-cf81738e3c2a"
      },
      "outputs": [
        {
          "name": "stdout",
          "output_type": "stream",
          "text": [
            "0.8598673300165838\n"
          ]
        }
      ],
      "source": [
        "acc = accuracy_score(y, y_pred)\n",
        "print(acc)"
      ]
    },
    {
      "cell_type": "code",
      "execution_count": null,
      "metadata": {
        "colab": {
          "base_uri": "https://localhost:8080/"
        },
        "id": "gxBzJhPi8jJI",
        "outputId": "373d9a50-78e9-491c-def3-cbc466672127"
      },
      "outputs": [
        {
          "name": "stdout",
          "output_type": "stream",
          "text": [
            "       Age  Yards  Receptions\n",
            "8007    34    244          25\n",
            "9623    25    124           7\n",
            "15621   28     82          14\n",
            "11316   24      5           1\n",
            "973     24    196          26\n",
            "...    ...    ...         ...\n",
            "5695    27      0           0\n",
            "8006    29    239          24\n",
            "17745   31   1005          56\n",
            "17931   33     83           8\n",
            "13151   28    699          77\n",
            "\n",
            "[12663 rows x 3 columns]\n"
          ]
        },
        {
          "data": {
            "text/plain": [
              "array([0])"
            ]
          },
          "execution_count": 31,
          "metadata": {},
          "output_type": "execute_result"
        }
      ],
      "source": [
        "import numpy as np\n",
        "print(X_train)\n",
        "test = pd.DataFrame({'Age': [21], 'Yards': [1500], 'Receptions': [87]})\n",
        "logModel.predict(test)\n"
      ]
    },
    {
      "cell_type": "code",
      "execution_count": null,
      "metadata": {
        "colab": {
          "base_uri": "https://localhost:8080/",
          "height": 342
        },
        "id": "7HC2KIWG9JPu",
        "outputId": "c9410239-46f8-43f2-e97f-f7ada5137b45"
      },
      "outputs": [
        {
          "data": {
            "text/plain": [
              "Text(0.5, 257.44, 'Predicted season')"
            ]
          },
          "execution_count": 18,
          "metadata": {},
          "output_type": "execute_result"
        },
        {
          "data": {
            "image/png": "[encoded data removed]",
            "text/plain": [
              "<Figure size 432x288 with 2 Axes>"
            ]
          },
          "metadata": {},
          "output_type": "display_data"
        }
      ],
      "source": [
        "from sklearn import metrics\n",
        "cnf_matrix = metrics.confusion_matrix(y, y_pred)\n",
        "\n",
        "# Visualizing the Confusion Matrix\n",
        "class_names = [0,1] # Our diagnosis categories\n",
        "\n",
        "fig, ax = plt.subplots()\n",
        "# Setting up and visualizing the plot (do not worry about the code below!)\n",
        "tick_marks = np.arange(len(class_names)) \n",
        "plt.xticks(tick_marks, class_names)\n",
        "plt.yticks(tick_marks, class_names)\n",
        "sns.heatmap(pd.DataFrame(cnf_matrix), annot=True, cmap=\"YlGnBu\" ,fmt='g') # Creating heatmap\n",
        "ax.xaxis.set_label_position(\"top\")\n",
        "plt.tight_layout()\n",
        "plt.title('Confusion matrix', y = 1.1)\n",
        "plt.ylabel('Actual season')\n",
        "plt.xlabel('Predicted season')"
      ]
    }
  ],
  "metadata": {
    "colab": {
      "collapsed_sections": [
        "czLH9ikKH4Vm"
      ],
      "name": "Fantasy Football DataScience Project.ipynb",
      "provenance": [],
      "authorship_tag": "ABX9TyP0cUG8h4p3zgwE53g47DIV",
      "include_colab_link": true
    },
    "kernelspec": {
      "display_name": "Python 3",
      "name": "python3"
    },
    "language_info": {
      "name": "python"
    }
  },
  "nbformat": 4,
  "nbformat_minor": 0
}